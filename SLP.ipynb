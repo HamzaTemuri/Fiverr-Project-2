{
 "cells": [
  {
   "cell_type": "markdown",
   "metadata": {},
   "source": [
    "# Classification using Single Perceptron"
   ]
  },
  {
   "cell_type": "code",
   "execution_count": 1,
   "metadata": {},
   "outputs": [],
   "source": [
    "#Detecting whether our patient have MI Disease or Angina Disease depending upon SYSTLOC BLOOD PRESSURE and WHITE BLOOD COUNT"
   ]
  },
  {
   "cell_type": "code",
   "execution_count": 2,
   "metadata": {},
   "outputs": [],
   "source": [
    "#Importing some common python libraries\n",
    "import pandas as pd\n",
    "import numpy as np"
   ]
  },
  {
   "cell_type": "markdown",
   "metadata": {},
   "source": [
    "### Loading our Training Dataset "
   ]
  },
  {
   "cell_type": "code",
   "execution_count": 3,
   "metadata": {},
   "outputs": [
    {
     "data": {
      "text/html": [
       "<div>\n",
       "<style scoped>\n",
       "    .dataframe tbody tr th:only-of-type {\n",
       "        vertical-align: middle;\n",
       "    }\n",
       "\n",
       "    .dataframe tbody tr th {\n",
       "        vertical-align: top;\n",
       "    }\n",
       "\n",
       "    .dataframe thead th {\n",
       "        text-align: right;\n",
       "    }\n",
       "</style>\n",
       "<table border=\"1\" class=\"dataframe\">\n",
       "  <thead>\n",
       "    <tr style=\"text-align: right;\">\n",
       "      <th></th>\n",
       "      <th>SBP</th>\n",
       "      <th>WBC</th>\n",
       "      <th>Diagnosis</th>\n",
       "    </tr>\n",
       "  </thead>\n",
       "  <tbody>\n",
       "    <tr>\n",
       "      <th>0</th>\n",
       "      <td>10.01</td>\n",
       "      <td>16.58</td>\n",
       "      <td>MI</td>\n",
       "    </tr>\n",
       "    <tr>\n",
       "      <th>1</th>\n",
       "      <td>13.81</td>\n",
       "      <td>19.77</td>\n",
       "      <td>MI</td>\n",
       "    </tr>\n",
       "    <tr>\n",
       "      <th>2</th>\n",
       "      <td>12.42</td>\n",
       "      <td>11.20</td>\n",
       "      <td>MI</td>\n",
       "    </tr>\n",
       "    <tr>\n",
       "      <th>3</th>\n",
       "      <td>11.39</td>\n",
       "      <td>15.87</td>\n",
       "      <td>MI</td>\n",
       "    </tr>\n",
       "    <tr>\n",
       "      <th>4</th>\n",
       "      <td>8.14</td>\n",
       "      <td>18.46</td>\n",
       "      <td>MI</td>\n",
       "    </tr>\n",
       "    <tr>\n",
       "      <th>5</th>\n",
       "      <td>12.06</td>\n",
       "      <td>10.61</td>\n",
       "      <td>MI</td>\n",
       "    </tr>\n",
       "    <tr>\n",
       "      <th>6</th>\n",
       "      <td>10.93</td>\n",
       "      <td>11.46</td>\n",
       "      <td>MI</td>\n",
       "    </tr>\n",
       "    <tr>\n",
       "      <th>7</th>\n",
       "      <td>10.58</td>\n",
       "      <td>15.16</td>\n",
       "      <td>MI</td>\n",
       "    </tr>\n",
       "    <tr>\n",
       "      <th>8</th>\n",
       "      <td>10.17</td>\n",
       "      <td>19.65</td>\n",
       "      <td>MI</td>\n",
       "    </tr>\n",
       "    <tr>\n",
       "      <th>9</th>\n",
       "      <td>9.46</td>\n",
       "      <td>15.97</td>\n",
       "      <td>MI</td>\n",
       "    </tr>\n",
       "  </tbody>\n",
       "</table>\n",
       "</div>"
      ],
      "text/plain": [
       "     SBP    WBC Diagnosis\n",
       "0  10.01  16.58        MI\n",
       "1  13.81  19.77        MI\n",
       "2  12.42  11.20        MI\n",
       "3  11.39  15.87        MI\n",
       "4   8.14  18.46        MI\n",
       "5  12.06  10.61        MI\n",
       "6  10.93  11.46        MI\n",
       "7  10.58  15.16        MI\n",
       "8  10.17  19.65        MI\n",
       "9   9.46  15.97        MI"
      ]
     },
     "execution_count": 3,
     "metadata": {},
     "output_type": "execute_result"
    }
   ],
   "source": [
    "# loading data file into the program. give the location of your csv file\n",
    "train = pd.read_csv(\"MI vs Angina.csv\")\n",
    "train.head(10)"
   ]
  },
  {
   "cell_type": "code",
   "execution_count": 4,
   "metadata": {},
   "outputs": [],
   "source": [
    "#Converting data into numeric\n",
    "# MI = 0\n",
    "# Angina = 1\n",
    "train.replace('MI',0,inplace=True)\n",
    "train.replace('Angina',1,inplace=True)"
   ]
  },
  {
   "cell_type": "code",
   "execution_count": 5,
   "metadata": {},
   "outputs": [
    {
     "data": {
      "text/html": [
       "<div>\n",
       "<style scoped>\n",
       "    .dataframe tbody tr th:only-of-type {\n",
       "        vertical-align: middle;\n",
       "    }\n",
       "\n",
       "    .dataframe tbody tr th {\n",
       "        vertical-align: top;\n",
       "    }\n",
       "\n",
       "    .dataframe thead th {\n",
       "        text-align: right;\n",
       "    }\n",
       "</style>\n",
       "<table border=\"1\" class=\"dataframe\">\n",
       "  <thead>\n",
       "    <tr style=\"text-align: right;\">\n",
       "      <th></th>\n",
       "      <th>SBP</th>\n",
       "      <th>WBC</th>\n",
       "      <th>Diagnosis</th>\n",
       "    </tr>\n",
       "  </thead>\n",
       "  <tbody>\n",
       "    <tr>\n",
       "      <th>0</th>\n",
       "      <td>10.01</td>\n",
       "      <td>16.58</td>\n",
       "      <td>0</td>\n",
       "    </tr>\n",
       "    <tr>\n",
       "      <th>1</th>\n",
       "      <td>13.81</td>\n",
       "      <td>19.77</td>\n",
       "      <td>0</td>\n",
       "    </tr>\n",
       "    <tr>\n",
       "      <th>2</th>\n",
       "      <td>12.42</td>\n",
       "      <td>11.20</td>\n",
       "      <td>0</td>\n",
       "    </tr>\n",
       "    <tr>\n",
       "      <th>3</th>\n",
       "      <td>11.39</td>\n",
       "      <td>15.87</td>\n",
       "      <td>0</td>\n",
       "    </tr>\n",
       "    <tr>\n",
       "      <th>4</th>\n",
       "      <td>8.14</td>\n",
       "      <td>18.46</td>\n",
       "      <td>0</td>\n",
       "    </tr>\n",
       "  </tbody>\n",
       "</table>\n",
       "</div>"
      ],
      "text/plain": [
       "     SBP    WBC  Diagnosis\n",
       "0  10.01  16.58          0\n",
       "1  13.81  19.77          0\n",
       "2  12.42  11.20          0\n",
       "3  11.39  15.87          0\n",
       "4   8.14  18.46          0"
      ]
     },
     "execution_count": 5,
     "metadata": {},
     "output_type": "execute_result"
    }
   ],
   "source": [
    "train.head()"
   ]
  },
  {
   "cell_type": "code",
   "execution_count": 6,
   "metadata": {},
   "outputs": [
    {
     "data": {
      "text/plain": [
       "matrix([[10.01, 16.58,  0.  ],\n",
       "        [13.81, 19.77,  0.  ],\n",
       "        [12.42, 11.2 ,  0.  ],\n",
       "        [11.39, 15.87,  0.  ],\n",
       "        [ 8.14, 18.46,  0.  ],\n",
       "        [12.06, 10.61,  0.  ],\n",
       "        [10.93, 11.46,  0.  ],\n",
       "        [10.58, 15.16,  0.  ],\n",
       "        [10.17, 19.65,  0.  ],\n",
       "        [ 9.46, 15.97,  0.  ],\n",
       "        [21.98,  7.39,  1.  ],\n",
       "        [16.8 ,  7.35,  1.  ],\n",
       "        [14.85,  6.15,  1.  ],\n",
       "        [16.39,  5.41,  1.  ],\n",
       "        [20.05,  7.11,  1.  ],\n",
       "        [14.8 ,  7.65,  1.  ],\n",
       "        [19.98,  7.7 ,  1.  ],\n",
       "        [16.81,  3.85,  1.  ],\n",
       "        [18.77,  5.86,  1.  ],\n",
       "        [21.7 ,  9.19,  1.  ]])"
      ]
     },
     "execution_count": 6,
     "metadata": {},
     "output_type": "execute_result"
    }
   ],
   "source": [
    "# Converting our data to numpy matrix\n",
    "train = np.asmatrix(train)\n",
    "train"
   ]
  },
  {
   "cell_type": "markdown",
   "metadata": {},
   "source": [
    "### Defining our MODEL "
   ]
  },
  {
   "cell_type": "code",
   "execution_count": 7,
   "metadata": {},
   "outputs": [],
   "source": [
    "# Function for estimating Perceptron weights\n",
    "def perceptron(data, epoch):\n",
    "    features = data[:, :-1]\n",
    "    labels = data[:, -1]\n",
    "    \n",
    "    # set weights to zero\n",
    "    w = np.zeros(shape=(1, features.shape[1]+1))\n",
    "    \n",
    "    misclassified_ = []\n",
    "  \n",
    "    for epoch in range(epoch):\n",
    "        misclassified = 0\n",
    "        for x, label in zip(features, labels):\n",
    "            x = np.insert(x,0,1)\n",
    "            y = np.dot(w, x.transpose())\n",
    "            target = 1.0 if (y > 0) else 0.0\n",
    "            \n",
    "            delta = (label.item(0,0) - target)\n",
    "            \n",
    "            if(delta): # misclassified\n",
    "                misclassified += 1\n",
    "                w += (delta * x)\n",
    "        \n",
    "        misclassified_.append(misclassified)\n",
    "    return (w)"
   ]
  },
  {
   "cell_type": "code",
   "execution_count": 8,
   "metadata": {},
   "outputs": [],
   "source": [
    "# Function for prediction using weghts\n",
    "def test_(data, w):\n",
    "    features = data[:, :-1]\n",
    "    labels = data[:, -1]\n",
    "    truth = []\n",
    "    for x, label in zip(features, labels):\n",
    "        x = np.insert(x,0,1)\n",
    "        y = np.dot(w, x.transpose())\n",
    "        target = 1.0 if (y > 0) else 0.0\n",
    "        truth.append(target)\n",
    "    return truth"
   ]
  },
  {
   "cell_type": "markdown",
   "metadata": {},
   "source": [
    "### Training / Determining Weights"
   ]
  },
  {
   "cell_type": "code",
   "execution_count": 9,
   "metadata": {},
   "outputs": [
    {
     "name": "stdout",
     "output_type": "stream",
     "text": [
      "Weights:\n",
      "[ -1.    26.8  -50.78]\n"
     ]
    }
   ],
   "source": [
    "# Number of Epochs\n",
    "epoch = 10\n",
    "weights = perceptron(train, epoch)\n",
    "print(\"Weights:\")\n",
    "print(weights[0])"
   ]
  },
  {
   "cell_type": "markdown",
   "metadata": {},
   "source": [
    "### TEST Dataset "
   ]
  },
  {
   "cell_type": "code",
   "execution_count": 10,
   "metadata": {},
   "outputs": [
    {
     "data": {
      "text/html": [
       "<div>\n",
       "<style scoped>\n",
       "    .dataframe tbody tr th:only-of-type {\n",
       "        vertical-align: middle;\n",
       "    }\n",
       "\n",
       "    .dataframe tbody tr th {\n",
       "        vertical-align: top;\n",
       "    }\n",
       "\n",
       "    .dataframe thead th {\n",
       "        text-align: right;\n",
       "    }\n",
       "</style>\n",
       "<table border=\"1\" class=\"dataframe\">\n",
       "  <thead>\n",
       "    <tr style=\"text-align: right;\">\n",
       "      <th></th>\n",
       "      <th>SBP</th>\n",
       "      <th>WBC</th>\n",
       "      <th>Diagnosis</th>\n",
       "    </tr>\n",
       "  </thead>\n",
       "  <tbody>\n",
       "    <tr>\n",
       "      <th>0</th>\n",
       "      <td>10.13</td>\n",
       "      <td>12.60</td>\n",
       "      <td>MI</td>\n",
       "    </tr>\n",
       "    <tr>\n",
       "      <th>1</th>\n",
       "      <td>8.64</td>\n",
       "      <td>14.66</td>\n",
       "      <td>MI</td>\n",
       "    </tr>\n",
       "    <tr>\n",
       "      <th>2</th>\n",
       "      <td>12.75</td>\n",
       "      <td>21.64</td>\n",
       "      <td>MI</td>\n",
       "    </tr>\n",
       "    <tr>\n",
       "      <th>3</th>\n",
       "      <td>10.17</td>\n",
       "      <td>12.35</td>\n",
       "      <td>MI</td>\n",
       "    </tr>\n",
       "    <tr>\n",
       "      <th>4</th>\n",
       "      <td>12.83</td>\n",
       "      <td>11.95</td>\n",
       "      <td>MI</td>\n",
       "    </tr>\n",
       "  </tbody>\n",
       "</table>\n",
       "</div>"
      ],
      "text/plain": [
       "     SBP    WBC Diagnosis\n",
       "0  10.13  12.60        MI\n",
       "1   8.64  14.66        MI\n",
       "2  12.75  21.64        MI\n",
       "3  10.17  12.35        MI\n",
       "4  12.83  11.95        MI"
      ]
     },
     "execution_count": 10,
     "metadata": {},
     "output_type": "execute_result"
    }
   ],
   "source": [
    "test = pd.DataFrame(columns=['SBP','WBC','Diagnosis'])\n",
    "test['Diagnosis'] = [\"MI\",\"MI\",\"MI\",\"MI\",\"MI\",\"Angina\",\"Angina\",\"Angina\",\"Angina\",\"Angina\"]\n",
    "test['SBP'] = [10.13,  8.64, 12.75, 10.17, 12.83, 21.03, 20.22, 15.63, 19.99, 15.41]\n",
    "test['WBC'] = [12.6 , 14.66, 21.64, 12.35, 11.95,  4.97,  6.82,  4.98,  7.15, 5.44]\n",
    "test.head()"
   ]
  },
  {
   "cell_type": "code",
   "execution_count": 11,
   "metadata": {},
   "outputs": [],
   "source": [
    "#Converting data into numeric\n",
    "# MI = 0\n",
    "# Angina = 1\n",
    "test.replace('MI',0,inplace=True)\n",
    "test.replace('Angina',1,inplace=True)"
   ]
  },
  {
   "cell_type": "code",
   "execution_count": 12,
   "metadata": {},
   "outputs": [
    {
     "data": {
      "text/plain": [
       "array([[10.13, 12.6 ,  0.  ],\n",
       "       [ 8.64, 14.66,  0.  ],\n",
       "       [12.75, 21.64,  0.  ],\n",
       "       [10.17, 12.35,  0.  ],\n",
       "       [12.83, 11.95,  0.  ],\n",
       "       [21.03,  4.97,  1.  ],\n",
       "       [20.22,  6.82,  1.  ],\n",
       "       [15.63,  4.98,  1.  ],\n",
       "       [19.99,  7.15,  1.  ],\n",
       "       [15.41,  5.44,  1.  ]])"
      ]
     },
     "execution_count": 12,
     "metadata": {},
     "output_type": "execute_result"
    }
   ],
   "source": [
    "# Converting our data to numpy array\n",
    "test = test.to_numpy()\n",
    "test"
   ]
  },
  {
   "cell_type": "markdown",
   "metadata": {},
   "source": [
    "### Prediction "
   ]
  },
  {
   "cell_type": "code",
   "execution_count": 13,
   "metadata": {},
   "outputs": [],
   "source": [
    "# Using Weights from training\n",
    "pred = test_(test, weights[0])"
   ]
  },
  {
   "cell_type": "code",
   "execution_count": 14,
   "metadata": {},
   "outputs": [
    {
     "data": {
      "text/plain": [
       "[0.0, 0.0, 0.0, 0.0, 0.0, 1.0, 1.0, 1.0, 1.0, 1.0]"
      ]
     },
     "execution_count": 14,
     "metadata": {},
     "output_type": "execute_result"
    }
   ],
   "source": [
    "pred"
   ]
  },
  {
   "cell_type": "markdown",
   "metadata": {},
   "source": [
    "### Working for Accuracy "
   ]
  },
  {
   "cell_type": "code",
   "execution_count": 15,
   "metadata": {},
   "outputs": [],
   "source": [
    "# checking if the result of our model and true labels are matching\n",
    "accuracy_list = []\n",
    "# making list of True values from test data\n",
    "TrueLabel = test[:,-1]\n",
    "\n",
    "for i in range(0,10):\n",
    "    if pred[i] == TrueLabel[i]:\n",
    "        accuracy_list.append(1)\n",
    "    else:\n",
    "        accuracy_list.append(0)"
   ]
  },
  {
   "cell_type": "code",
   "execution_count": 16,
   "metadata": {},
   "outputs": [
    {
     "data": {
      "text/plain": [
       "[1, 1, 1, 1, 1, 1, 1, 1, 1, 1]"
      ]
     },
     "execution_count": 16,
     "metadata": {},
     "output_type": "execute_result"
    }
   ],
   "source": [
    "# 1 = True\n",
    "# 0 = False\n",
    "accuracy_list"
   ]
  },
  {
   "cell_type": "code",
   "execution_count": 17,
   "metadata": {},
   "outputs": [],
   "source": [
    "Total_values = 10\n",
    "Sum = sum(accuracy_list)"
   ]
  },
  {
   "cell_type": "code",
   "execution_count": 18,
   "metadata": {},
   "outputs": [],
   "source": [
    "#Formula for Accuracy Percent\n",
    "Accuracy = (Sum/Total_values)*100"
   ]
  },
  {
   "cell_type": "markdown",
   "metadata": {},
   "source": [
    "### Accuracy of Single Perceptron"
   ]
  },
  {
   "cell_type": "code",
   "execution_count": 19,
   "metadata": {},
   "outputs": [
    {
     "name": "stdout",
     "output_type": "stream",
     "text": [
      "Accuracy = 100%\n"
     ]
    }
   ],
   "source": [
    "print('Accuracy = %d'% Accuracy + \"%\")"
   ]
  },
  {
   "cell_type": "code",
   "execution_count": null,
   "metadata": {},
   "outputs": [],
   "source": []
  }
 ],
 "metadata": {
  "kernelspec": {
   "display_name": "Python 3",
   "language": "python",
   "name": "python3"
  },
  "language_info": {
   "codemirror_mode": {
    "name": "ipython",
    "version": 3
   },
   "file_extension": ".py",
   "mimetype": "text/x-python",
   "name": "python",
   "nbconvert_exporter": "python",
   "pygments_lexer": "ipython3",
   "version": "3.7.6"
  }
 },
 "nbformat": 4,
 "nbformat_minor": 4
}
